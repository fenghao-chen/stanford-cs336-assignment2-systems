{
 "cells": [
  {
   "cell_type": "code",
   "execution_count": 1,
   "id": "9a921b1b-91db-4bb6-83fe-0a32bcf44409",
   "metadata": {},
   "outputs": [],
   "source": [
    "import torch"
   ]
  },
  {
   "cell_type": "code",
   "execution_count": 4,
   "id": "898ce59a-31ec-4577-8d94-f8349852fdc3",
   "metadata": {},
   "outputs": [
    {
     "name": "stdout",
     "output_type": "stream",
     "text": [
      "tensor(10.0001)\n"
     ]
    }
   ],
   "source": [
    "s = torch.tensor(0,dtype=torch.float32)\n",
    "for i in range(1000):\n",
    "    s += torch.tensor(0.01,dtype=torch.float32)\n",
    "print(s)"
   ]
  },
  {
   "cell_type": "code",
   "execution_count": 18,
   "id": "82e70e29-ac7d-4561-aa88-138c9a762643",
   "metadata": {},
   "outputs": [
    {
     "name": "stdout",
     "output_type": "stream",
     "text": [
      "tensor(9.9531, dtype=torch.float16)\n"
     ]
    }
   ],
   "source": [
    "s = torch.tensor(0,dtype=torch.float16)\n",
    "for i in range(1000):\n",
    "    s += torch.tensor(0.01,dtype=torch.float16)\n",
    "print(s)"
   ]
  },
  {
   "cell_type": "code",
   "execution_count": 19,
   "id": "b9ba611d-f93b-4286-88af-cf723a55f50a",
   "metadata": {},
   "outputs": [
    {
     "name": "stdout",
     "output_type": "stream",
     "text": [
      "tensor(10.0021)\n"
     ]
    }
   ],
   "source": [
    "s = torch.tensor(0,dtype=torch.float32)\n",
    "for i in range(1000):\n",
    "    s += torch.tensor(0.01,dtype=torch.float16)\n",
    "print(s)"
   ]
  },
  {
   "cell_type": "code",
   "execution_count": 20,
   "id": "b1b8f994-8fb5-4cd2-901a-ea5259e45907",
   "metadata": {},
   "outputs": [
    {
     "name": "stdout",
     "output_type": "stream",
     "text": [
      "tensor(10.0021)\n"
     ]
    }
   ],
   "source": [
    "s = torch.tensor(0,dtype=torch.float32)\n",
    "for i in range(1000):\n",
    "    x = torch.tensor(0.01,dtype=torch.float16)\n",
    "    s += x.type(torch.float32)\n",
    "print(s)"
   ]
  },
  {
   "cell_type": "code",
   "execution_count": null,
   "id": "98906fbc-d4ea-4172-870d-6859fb05150c",
   "metadata": {},
   "outputs": [],
   "source": []
  }
 ],
 "metadata": {
  "kernelspec": {
   "display_name": "Python 3 (ipykernel)",
   "language": "python",
   "name": "python3"
  },
  "language_info": {
   "codemirror_mode": {
    "name": "ipython",
    "version": 3
   },
   "file_extension": ".py",
   "mimetype": "text/x-python",
   "name": "python",
   "nbconvert_exporter": "python",
   "pygments_lexer": "ipython3",
   "version": "3.11.5"
  }
 },
 "nbformat": 4,
 "nbformat_minor": 5
}
