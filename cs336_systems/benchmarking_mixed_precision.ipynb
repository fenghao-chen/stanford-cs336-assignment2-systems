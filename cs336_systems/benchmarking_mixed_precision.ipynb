{
 "cells": [
  {
   "cell_type": "code",
   "execution_count": 6,
   "id": "f67f08ba-ad49-45e8-a222-666637ea81cd",
   "metadata": {},
   "outputs": [],
   "source": [
    "import torch\n",
    "import torch.nn as nn\n",
    "from contextlib import contextmanager\n",
    "import torch, functools\n",
    "import torch.nn.functional as F\n"
   ]
  },
  {
   "cell_type": "code",
   "execution_count": 3,
   "id": "05b4ed19-a3e4-4f7b-9e0e-fa9dcba7190b",
   "metadata": {},
   "outputs": [],
   "source": [
    "class ToyModel(nn.Module):\n",
    "    def __init__(self, in_features: int, out_features: int):\n",
    "        super().__init__()\n",
    "        self.fc1 = nn.Linear(in_features, 10, bias=False)\n",
    "        self.ln = nn.LayerNorm(10)\n",
    "        self.fc2 = nn.Linear(10, out_features, bias=False)\n",
    "        self.relu = nn.ReLU()\n",
    "\n",
    "    def forward(self, x):\n",
    "        x = self.relu(self.fc1(x))\n",
    "        x = self.ln(x)\n",
    "        x = self.fc2(x)\n",
    "        return x"
   ]
  },
  {
   "cell_type": "code",
   "execution_count": 4,
   "id": "66abc79f-462c-4d06-a4c3-76827506d907",
   "metadata": {},
   "outputs": [],
   "source": [
    "def add_dtype_hooks(model):\n",
    "    \"\"\"Attach a hook to every leaf module that prints input/output dtypes.\"\"\"\n",
    "    hooks = []\n",
    "    for name, mod in model.named_modules():\n",
    "        if len(list(mod.children())) == 0:                                # leaf\n",
    "            def _hook(mod, inp, out, n=name):\n",
    "                in_types  = [t.dtype for t in inp if torch.is_tensor(t)]\n",
    "                out_types = out.dtype if torch.is_tensor(out) else [\n",
    "                             t.dtype for t in out if torch.is_tensor(t)]\n",
    "                print(f\"{n:>30}  in={in_types}  out={out_types}\")\n",
    "            hooks.append(mod.register_forward_hook(_hook))\n",
    "    return hooks"
   ]
  },
  {
   "cell_type": "code",
   "execution_count": 9,
   "id": "a13d8850-f848-4e26-b844-af537f0cf0c0",
   "metadata": {},
   "outputs": [
    {
     "name": "stdout",
     "output_type": "stream",
     "text": [
      "                           fc1  in=[torch.float32]  out=torch.float16\n",
      "                          relu  in=[torch.float16]  out=torch.float16\n",
      "                            ln  in=[torch.float16]  out=torch.float32\n",
      "                           fc2  in=[torch.float32]  out=torch.float16\n",
      "logits: torch.float16\n",
      "loss  : torch.float32\n",
      "grad fc1: torch.float32\n"
     ]
    }
   ],
   "source": [
    "in_features = 5\n",
    "out_features = 4\n",
    "device = \"mps\" # or cuda\n",
    "model = ToyModel(in_features, out_features).to(device)\n",
    "hooks = add_dtype_hooks(model)\n",
    "dtype = torch.float16\n",
    "x = torch.randn(1, in_features).to(device)\n",
    "targets = torch.randn(1, out_features).to(device)\n",
    "with torch.autocast(device_type=device, dtype=dtype):\n",
    "    logits = model(x)\n",
    "    loss   = F.cross_entropy(logits, targets)\n",
    "\n",
    "print(\"logits:\", logits.dtype)   \n",
    "print(\"loss  :\", loss.dtype)     \n",
    "loss.backward()\n",
    "print(\"grad fc1:\", model.fc1.weight.grad.dtype)  "
   ]
  },
  {
   "cell_type": "code",
   "execution_count": null,
   "id": "4ff14436-fd66-4188-b855-38aa7ca082c4",
   "metadata": {},
   "outputs": [],
   "source": []
  }
 ],
 "metadata": {
  "kernelspec": {
   "display_name": "Python 3 (ipykernel)",
   "language": "python",
   "name": "python3"
  },
  "language_info": {
   "codemirror_mode": {
    "name": "ipython",
    "version": 3
   },
   "file_extension": ".py",
   "mimetype": "text/x-python",
   "name": "python",
   "nbconvert_exporter": "python",
   "pygments_lexer": "ipython3",
   "version": "3.11.5"
  }
 },
 "nbformat": 4,
 "nbformat_minor": 5
}
